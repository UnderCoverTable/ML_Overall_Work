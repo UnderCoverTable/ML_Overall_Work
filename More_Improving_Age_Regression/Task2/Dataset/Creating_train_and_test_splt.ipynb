{
 "cells": [
  {
   "cell_type": "code",
   "execution_count": 1,
   "metadata": {},
   "outputs": [],
   "source": [
    "%store -r paths_unknown_cropped\n",
    "%store -r paths_sameed_cropped\n",
    "%store -r paths_arham_cropped\n",
    "\n",
    "%store -r arham_ages\n",
    "%store -r unknown_ages\n",
    "%store -r sameed_ages\n",
    "\n",
    "%store -r arham_expressions\n",
    "%store -r sameed_expressions\n",
    "%store -r unknown_expressions"
   ]
  },
  {
   "cell_type": "code",
   "execution_count": 2,
   "metadata": {},
   "outputs": [],
   "source": [
    "import numpy as np\n",
    "import pandas as pd\n",
    "from sklearn.model_selection import train_test_split"
   ]
  },
  {
   "cell_type": "code",
   "execution_count": 29,
   "metadata": {},
   "outputs": [],
   "source": [
    "paths = paths_unknown_cropped + paths_sameed_cropped + paths_arham_cropped\n",
    "\n",
    "entries = len(paths)/3\n",
    "\n",
    "indentities = [\"Unknown\" for i in range(69)] + [\"Sameed\" for i in range(69)] + [\"Arham\" for i in range(41)]\n",
    "ages = unknown_ages + sameed_ages + arham_ages\n",
    "ages = [int(n) for n in ages]\n",
    "expressions = unknown_expressions + sameed_expressions + arham_expressions\n"
   ]
  },
  {
   "cell_type": "code",
   "execution_count": 30,
   "metadata": {},
   "outputs": [],
   "source": [
    "df = pd.DataFrame(\n",
    "\n",
    "    {\"Path\": paths,\n",
    "    \"Identity\": indentities,\n",
    "    \"Age\": ages ,\n",
    "    \"Expression\": expressions}\n",
    ")\n"
   ]
  },
  {
   "cell_type": "code",
   "execution_count": 31,
   "metadata": {},
   "outputs": [
    {
     "data": {
      "text/html": [
       "<div>\n",
       "<style scoped>\n",
       "    .dataframe tbody tr th:only-of-type {\n",
       "        vertical-align: middle;\n",
       "    }\n",
       "\n",
       "    .dataframe tbody tr th {\n",
       "        vertical-align: top;\n",
       "    }\n",
       "\n",
       "    .dataframe thead th {\n",
       "        text-align: right;\n",
       "    }\n",
       "</style>\n",
       "<table border=\"1\" class=\"dataframe\">\n",
       "  <thead>\n",
       "    <tr style=\"text-align: right;\">\n",
       "      <th></th>\n",
       "      <th>Path</th>\n",
       "      <th>Identity</th>\n",
       "      <th>Age</th>\n",
       "      <th>Expression</th>\n",
       "    </tr>\n",
       "  </thead>\n",
       "  <tbody>\n",
       "    <tr>\n",
       "      <th>0</th>\n",
       "      <td>C:\\Users\\Sameed\\Desktop\\ML_Overall_Work\\Me_Not...</td>\n",
       "      <td>Unknown</td>\n",
       "      <td>10</td>\n",
       "      <td>Not Smiling</td>\n",
       "    </tr>\n",
       "    <tr>\n",
       "      <th>1</th>\n",
       "      <td>C:\\Users\\Sameed\\Desktop\\ML_Overall_Work\\Me_Not...</td>\n",
       "      <td>Unknown</td>\n",
       "      <td>1</td>\n",
       "      <td>Not Smiling</td>\n",
       "    </tr>\n",
       "    <tr>\n",
       "      <th>2</th>\n",
       "      <td>C:\\Users\\Sameed\\Desktop\\ML_Overall_Work\\Me_Not...</td>\n",
       "      <td>Unknown</td>\n",
       "      <td>1</td>\n",
       "      <td>Not Smiling</td>\n",
       "    </tr>\n",
       "    <tr>\n",
       "      <th>3</th>\n",
       "      <td>C:\\Users\\Sameed\\Desktop\\ML_Overall_Work\\Me_Not...</td>\n",
       "      <td>Unknown</td>\n",
       "      <td>1</td>\n",
       "      <td>Not Smiling</td>\n",
       "    </tr>\n",
       "    <tr>\n",
       "      <th>4</th>\n",
       "      <td>C:\\Users\\Sameed\\Desktop\\ML_Overall_Work\\Me_Not...</td>\n",
       "      <td>Unknown</td>\n",
       "      <td>1</td>\n",
       "      <td>Not Smiling</td>\n",
       "    </tr>\n",
       "    <tr>\n",
       "      <th>...</th>\n",
       "      <td>...</td>\n",
       "      <td>...</td>\n",
       "      <td>...</td>\n",
       "      <td>...</td>\n",
       "    </tr>\n",
       "    <tr>\n",
       "      <th>174</th>\n",
       "      <td>C:\\Users\\Sameed\\Desktop\\ML_Overall_Work\\Me_Not...</td>\n",
       "      <td>Arham</td>\n",
       "      <td>22</td>\n",
       "      <td>Smiling</td>\n",
       "    </tr>\n",
       "    <tr>\n",
       "      <th>175</th>\n",
       "      <td>C:\\Users\\Sameed\\Desktop\\ML_Overall_Work\\Me_Not...</td>\n",
       "      <td>Arham</td>\n",
       "      <td>22</td>\n",
       "      <td>Smiling</td>\n",
       "    </tr>\n",
       "    <tr>\n",
       "      <th>176</th>\n",
       "      <td>C:\\Users\\Sameed\\Desktop\\ML_Overall_Work\\Me_Not...</td>\n",
       "      <td>Arham</td>\n",
       "      <td>22</td>\n",
       "      <td>Smiling</td>\n",
       "    </tr>\n",
       "    <tr>\n",
       "      <th>177</th>\n",
       "      <td>C:\\Users\\Sameed\\Desktop\\ML_Overall_Work\\Me_Not...</td>\n",
       "      <td>Arham</td>\n",
       "      <td>22</td>\n",
       "      <td>Smiling</td>\n",
       "    </tr>\n",
       "    <tr>\n",
       "      <th>178</th>\n",
       "      <td>C:\\Users\\Sameed\\Desktop\\ML_Overall_Work\\Me_Not...</td>\n",
       "      <td>Arham</td>\n",
       "      <td>22</td>\n",
       "      <td>Smiling</td>\n",
       "    </tr>\n",
       "  </tbody>\n",
       "</table>\n",
       "<p>179 rows × 4 columns</p>\n",
       "</div>"
      ],
      "text/plain": [
       "                                                  Path Identity  Age  \\\n",
       "0    C:\\Users\\Sameed\\Desktop\\ML_Overall_Work\\Me_Not...  Unknown   10   \n",
       "1    C:\\Users\\Sameed\\Desktop\\ML_Overall_Work\\Me_Not...  Unknown    1   \n",
       "2    C:\\Users\\Sameed\\Desktop\\ML_Overall_Work\\Me_Not...  Unknown    1   \n",
       "3    C:\\Users\\Sameed\\Desktop\\ML_Overall_Work\\Me_Not...  Unknown    1   \n",
       "4    C:\\Users\\Sameed\\Desktop\\ML_Overall_Work\\Me_Not...  Unknown    1   \n",
       "..                                                 ...      ...  ...   \n",
       "174  C:\\Users\\Sameed\\Desktop\\ML_Overall_Work\\Me_Not...    Arham   22   \n",
       "175  C:\\Users\\Sameed\\Desktop\\ML_Overall_Work\\Me_Not...    Arham   22   \n",
       "176  C:\\Users\\Sameed\\Desktop\\ML_Overall_Work\\Me_Not...    Arham   22   \n",
       "177  C:\\Users\\Sameed\\Desktop\\ML_Overall_Work\\Me_Not...    Arham   22   \n",
       "178  C:\\Users\\Sameed\\Desktop\\ML_Overall_Work\\Me_Not...    Arham   22   \n",
       "\n",
       "      Expression  \n",
       "0    Not Smiling  \n",
       "1    Not Smiling  \n",
       "2    Not Smiling  \n",
       "3    Not Smiling  \n",
       "4    Not Smiling  \n",
       "..           ...  \n",
       "174      Smiling  \n",
       "175      Smiling  \n",
       "176      Smiling  \n",
       "177      Smiling  \n",
       "178      Smiling  \n",
       "\n",
       "[179 rows x 4 columns]"
      ]
     },
     "execution_count": 31,
     "metadata": {},
     "output_type": "execute_result"
    }
   ],
   "source": [
    "df"
   ]
  },
  {
   "cell_type": "code",
   "execution_count": 32,
   "metadata": {},
   "outputs": [],
   "source": [
    "train, test = train_test_split(df, test_size=0.3)"
   ]
  },
  {
   "cell_type": "code",
   "execution_count": 25,
   "metadata": {},
   "outputs": [
    {
     "name": "stdout",
     "output_type": "stream",
     "text": [
      "22\n",
      "49\n",
      "22\n",
      "49\n"
     ]
    }
   ],
   "source": [
    "print(len(test[ test[\"Identity\"] == \"Sameed\" ]))\n",
    "print(len(train[ train[\"Identity\"] == \"Unknown\" ]))\n",
    "# print(len(train[ train[\"Identity\"] == \"Arham\" ]))\n",
    "\n",
    "\n",
    "print(len(test[ test[\"Identity\"] == \"Sameed\" ]))\n",
    "print(len(train[ train[\"Identity\"] == \"Unknown\" ]))\n",
    "# print(len(train[ train[\"Identity\"] == \"Arham\" ]))\n"
   ]
  },
  {
   "cell_type": "code",
   "execution_count": 33,
   "metadata": {},
   "outputs": [],
   "source": [
    "df.to_excel(\"C:\\\\Users\\\\Sameed\\\\Desktop\\\\ML_Overall_Work\\\\More_Improving_Age_Regression\\\\Task2\\\\Dataset\\\\(Unknown_Sameed_Arham).xlsx\", index = False)\n",
    "train.to_excel(\"C:\\\\Users\\\\Sameed\\\\Desktop\\\\ML_Overall_Work\\\\More_Improving_Age_Regression\\\\Task2\\\\Dataset\\\\Train_multi.xlsx\", index = False)\n",
    "test.to_excel(\"C:\\\\Users\\\\Sameed\\\\Desktop\\\\ML_Overall_Work\\\\More_Improving_Age_Regression\\\\Task2\\\\Dataset\\\\Test_multi.xlsx\", index = False)\n"
   ]
  }
 ],
 "metadata": {
  "kernelspec": {
   "display_name": "Python 3",
   "language": "python",
   "name": "python3"
  },
  "language_info": {
   "codemirror_mode": {
    "name": "ipython",
    "version": 3
   },
   "file_extension": ".py",
   "mimetype": "text/x-python",
   "name": "python",
   "nbconvert_exporter": "python",
   "pygments_lexer": "ipython3",
   "version": "3.11.0"
  },
  "orig_nbformat": 4
 },
 "nbformat": 4,
 "nbformat_minor": 2
}
