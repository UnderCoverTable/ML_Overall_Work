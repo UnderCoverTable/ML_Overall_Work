{
 "cells": [
  {
   "cell_type": "code",
   "execution_count": 26,
   "metadata": {},
   "outputs": [
    {
     "name": "stdout",
     "output_type": "stream",
     "text": [
      "Running on local URL:  http://127.0.0.1:7878\n",
      "\n",
      "To create a public link, set `share=True` in `launch()`.\n"
     ]
    },
    {
     "data": {
      "text/html": [
       "<div><iframe src=\"http://127.0.0.1:7878/\" width=\"100%\" height=\"500\" allow=\"autoplay; camera; microphone; clipboard-read; clipboard-write;\" frameborder=\"0\" allowfullscreen></iframe></div>"
      ],
      "text/plain": [
       "<IPython.core.display.HTML object>"
      ]
     },
     "metadata": {},
     "output_type": "display_data"
    },
    {
     "data": {
      "text/plain": []
     },
     "execution_count": 26,
     "metadata": {},
     "output_type": "execute_result"
    }
   ],
   "source": [
    "import gradio as gr\n",
    "import cv2\n",
    "import pickle\n",
    "\n",
    "multi_meNotme_model = pickle.load(open('Sameed_Arham_Unknown_classifier.pkl', 'rb'))\n",
    "\n",
    "def multi_who_predict(image):\n",
    "\n",
    "    image = cv2.resize(image, (64, 64))\n",
    "    image = image.flatten()\n",
    "\n",
    "    pred = multi_meNotme_model.predict([image])\n",
    "    pred_proba = multi_meNotme_model.predict_proba([image])[0]\n",
    "\n",
    "    pred_proba = pred_proba.tolist()\n",
    "    spec_probabilites = [prob for segments in pred_proba for prob in str(segments).split()]\n",
    "\n",
    "    if(pred[0] == 0):\n",
    "\n",
    "        return \"Unknown -> \" + spec_probabilites[0]\n",
    "\n",
    "    \n",
    "    if(pred[0] == 1):\n",
    "        return \"Sameed -> \" + spec_probabilites[1]\n",
    "\n",
    "    \n",
    "    if(pred[0] == 2):\n",
    "        return \"Arham -> \" + spec_probabilites[2]\n",
    "\n",
    "    \n",
    "\n",
    "interafce = gr.Interface(multi_who_predict, gr.Image(), \"text\")\n",
    "\n",
    "interafce.launch()"
   ]
  }
 ],
 "metadata": {
  "kernelspec": {
   "display_name": "Python 3",
   "language": "python",
   "name": "python3"
  },
  "language_info": {
   "codemirror_mode": {
    "name": "ipython",
    "version": 3
   },
   "file_extension": ".py",
   "mimetype": "text/x-python",
   "name": "python",
   "nbconvert_exporter": "python",
   "pygments_lexer": "ipython3",
   "version": "3.11.0"
  },
  "orig_nbformat": 4
 },
 "nbformat": 4,
 "nbformat_minor": 2
}
