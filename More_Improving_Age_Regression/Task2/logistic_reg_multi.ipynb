{
 "cells": [
  {
   "attachments": {},
   "cell_type": "markdown",
   "metadata": {},
   "source": [
    "Imports"
   ]
  },
  {
   "cell_type": "code",
   "execution_count": 5,
   "metadata": {},
   "outputs": [],
   "source": [
    "from sklearn.tree import DecisionTreeClassifier\n",
    "from sklearn.metrics import classification_report\n",
    "from sklearn.linear_model import LogisticRegression\n",
    "from sklearn.linear_model import LogisticRegressionCV\n",
    "from sklearn.metrics import precision_score\n",
    "from sklearn.metrics import recall_score\n",
    "from sklearn.metrics import f1_score\n",
    "from sklearn import tree\n",
    "from matplotlib import pyplot as plt\n",
    "import pandas as pd\n",
    "import numpy\n",
    "from PIL import Image\n",
    "import pickle"
   ]
  },
  {
   "cell_type": "code",
   "execution_count": 6,
   "metadata": {},
   "outputs": [],
   "source": [
    "trainDF = pd.read_excel(r'C:\\Users\\Sameed\\Desktop\\ML_Overall_Work\\More_Improving_Age_Regression\\Dataset\\Multi - Splits\\Train.xlsx')\n",
    "\n",
    "imagePaths = trainDF['Path'].tolist()\n",
    "imageLabels = trainDF['Identity'].tolist()\n",
    "\n",
    "labels_to_id = {\"Unknown\":0,\"Sameed\":1,\"Arham\":2}\n",
    "id_to_label = {0:\"Unknown\",1:\"Sameed \",2:\"Arham\"}\n"
   ]
  },
  {
   "cell_type": "code",
   "execution_count": 7,
   "metadata": {},
   "outputs": [],
   "source": [
    "\n",
    "x_train = []\n",
    "coloumn_heading = []\n",
    "\n",
    "for i in range(0,12288):\n",
    "    coloumn_heading.append(\"x\"+str(i)+\"_Train\")\n",
    "\n",
    "\n",
    "for images in imagePaths:\n",
    "    img = Image.open(images)\n",
    "\n",
    "    array_img = numpy.array(img)\n",
    "    array_img = array_img.flatten()\n",
    "\n",
    "    x_train.append(array_img)\n",
    "\n"
   ]
  },
  {
   "cell_type": "code",
   "execution_count": 8,
   "metadata": {},
   "outputs": [],
   "source": [
    "y_train = []\n",
    "\n",
    "for labels in imageLabels:\n",
    "    y_train.append(labels_to_id[labels])\n"
   ]
  },
  {
   "cell_type": "code",
   "execution_count": 9,
   "metadata": {},
   "outputs": [],
   "source": [
    "testDF = pd.read_excel(r'C:\\Users\\Sameed\\Desktop\\ML_Overall_Work\\More_Improving_Age_Regression\\Dataset\\Multi - Splits\\Test.xlsx')\n",
    "\n",
    "imagePaths_test = testDF['Path'].tolist()\n",
    "imageLabels_test = testDF['Identity'].tolist()\n"
   ]
  },
  {
   "cell_type": "code",
   "execution_count": 10,
   "metadata": {},
   "outputs": [],
   "source": [
    "\n",
    "x_test = []\n",
    "coloumn_heading_test = []\n",
    "\n",
    "for i in range(0,12288):\n",
    "    coloumn_heading_test.append(\"x\"+str(i)+\"_Test\")\n",
    "\n",
    "for images in imagePaths_test:\n",
    "    img = Image.open(images)\n",
    "\n",
    "    array_img = numpy.array(img)\n",
    "    array_img = array_img.flatten()\n",
    "\n",
    "    x_test.append(array_img)\n"
   ]
  },
  {
   "cell_type": "code",
   "execution_count": 11,
   "metadata": {},
   "outputs": [],
   "source": [
    "y_test = []\n",
    "\n",
    "for labels in imageLabels_test:\n",
    "    y_test.append(labels_to_id[labels])\n",
    "\n"
   ]
  },
  {
   "cell_type": "code",
   "execution_count": 12,
   "metadata": {},
   "outputs": [],
   "source": [
    "\n",
    "x_train = numpy.array(x_train)\n",
    "y_train = numpy.array(y_train)\n",
    "\n",
    "x_test = numpy.array(x_test)\n",
    "y_test = numpy.array(y_test)\n",
    "\n"
   ]
  },
  {
   "cell_type": "code",
   "execution_count": 20,
   "metadata": {},
   "outputs": [
    {
     "data": {
      "text/html": [
       "<style>#sk-container-id-3 {color: black;background-color: white;}#sk-container-id-3 pre{padding: 0;}#sk-container-id-3 div.sk-toggleable {background-color: white;}#sk-container-id-3 label.sk-toggleable__label {cursor: pointer;display: block;width: 100%;margin-bottom: 0;padding: 0.3em;box-sizing: border-box;text-align: center;}#sk-container-id-3 label.sk-toggleable__label-arrow:before {content: \"▸\";float: left;margin-right: 0.25em;color: #696969;}#sk-container-id-3 label.sk-toggleable__label-arrow:hover:before {color: black;}#sk-container-id-3 div.sk-estimator:hover label.sk-toggleable__label-arrow:before {color: black;}#sk-container-id-3 div.sk-toggleable__content {max-height: 0;max-width: 0;overflow: hidden;text-align: left;background-color: #f0f8ff;}#sk-container-id-3 div.sk-toggleable__content pre {margin: 0.2em;color: black;border-radius: 0.25em;background-color: #f0f8ff;}#sk-container-id-3 input.sk-toggleable__control:checked~div.sk-toggleable__content {max-height: 200px;max-width: 100%;overflow: auto;}#sk-container-id-3 input.sk-toggleable__control:checked~label.sk-toggleable__label-arrow:before {content: \"▾\";}#sk-container-id-3 div.sk-estimator input.sk-toggleable__control:checked~label.sk-toggleable__label {background-color: #d4ebff;}#sk-container-id-3 div.sk-label input.sk-toggleable__control:checked~label.sk-toggleable__label {background-color: #d4ebff;}#sk-container-id-3 input.sk-hidden--visually {border: 0;clip: rect(1px 1px 1px 1px);clip: rect(1px, 1px, 1px, 1px);height: 1px;margin: -1px;overflow: hidden;padding: 0;position: absolute;width: 1px;}#sk-container-id-3 div.sk-estimator {font-family: monospace;background-color: #f0f8ff;border: 1px dotted black;border-radius: 0.25em;box-sizing: border-box;margin-bottom: 0.5em;}#sk-container-id-3 div.sk-estimator:hover {background-color: #d4ebff;}#sk-container-id-3 div.sk-parallel-item::after {content: \"\";width: 100%;border-bottom: 1px solid gray;flex-grow: 1;}#sk-container-id-3 div.sk-label:hover label.sk-toggleable__label {background-color: #d4ebff;}#sk-container-id-3 div.sk-serial::before {content: \"\";position: absolute;border-left: 1px solid gray;box-sizing: border-box;top: 0;bottom: 0;left: 50%;z-index: 0;}#sk-container-id-3 div.sk-serial {display: flex;flex-direction: column;align-items: center;background-color: white;padding-right: 0.2em;padding-left: 0.2em;position: relative;}#sk-container-id-3 div.sk-item {position: relative;z-index: 1;}#sk-container-id-3 div.sk-parallel {display: flex;align-items: stretch;justify-content: center;background-color: white;position: relative;}#sk-container-id-3 div.sk-item::before, #sk-container-id-3 div.sk-parallel-item::before {content: \"\";position: absolute;border-left: 1px solid gray;box-sizing: border-box;top: 0;bottom: 0;left: 50%;z-index: -1;}#sk-container-id-3 div.sk-parallel-item {display: flex;flex-direction: column;z-index: 1;position: relative;background-color: white;}#sk-container-id-3 div.sk-parallel-item:first-child::after {align-self: flex-end;width: 50%;}#sk-container-id-3 div.sk-parallel-item:last-child::after {align-self: flex-start;width: 50%;}#sk-container-id-3 div.sk-parallel-item:only-child::after {width: 0;}#sk-container-id-3 div.sk-dashed-wrapped {border: 1px dashed gray;margin: 0 0.4em 0.5em 0.4em;box-sizing: border-box;padding-bottom: 0.4em;background-color: white;}#sk-container-id-3 div.sk-label label {font-family: monospace;font-weight: bold;display: inline-block;line-height: 1.2em;}#sk-container-id-3 div.sk-label-container {text-align: center;}#sk-container-id-3 div.sk-container {/* jupyter's `normalize.less` sets `[hidden] { display: none; }` but bootstrap.min.css set `[hidden] { display: none !important; }` so we also need the `!important` here to be able to override the default hidden behavior on the sphinx rendered scikit-learn.org. See: https://github.com/scikit-learn/scikit-learn/issues/21755 */display: inline-block !important;position: relative;}#sk-container-id-3 div.sk-text-repr-fallback {display: none;}</style><div id=\"sk-container-id-3\" class=\"sk-top-container\"><div class=\"sk-text-repr-fallback\"><pre>LogisticRegression(multi_class=&#x27;multinomial&#x27;)</pre><b>In a Jupyter environment, please rerun this cell to show the HTML representation or trust the notebook. <br />On GitHub, the HTML representation is unable to render, please try loading this page with nbviewer.org.</b></div><div class=\"sk-container\" hidden><div class=\"sk-item\"><div class=\"sk-estimator sk-toggleable\"><input class=\"sk-toggleable__control sk-hidden--visually\" id=\"sk-estimator-id-3\" type=\"checkbox\" checked><label for=\"sk-estimator-id-3\" class=\"sk-toggleable__label sk-toggleable__label-arrow\">LogisticRegression</label><div class=\"sk-toggleable__content\"><pre>LogisticRegression(multi_class=&#x27;multinomial&#x27;)</pre></div></div></div></div></div>"
      ],
      "text/plain": [
       "LogisticRegression(multi_class='multinomial')"
      ]
     },
     "execution_count": 20,
     "metadata": {},
     "output_type": "execute_result"
    }
   ],
   "source": [
    "    \n",
    "clf = LogisticRegression(multi_class= \"multinomial\",solver='lbfgs',penalty = \"l2\")\n",
    "clf.fit(x_train, y_train)\n",
    "# clf.get_params()\n"
   ]
  },
  {
   "attachments": {},
   "cell_type": "markdown",
   "metadata": {},
   "source": [
    "Testing"
   ]
  },
  {
   "cell_type": "code",
   "execution_count": 21,
   "metadata": {},
   "outputs": [
    {
     "name": "stdout",
     "output_type": "stream",
     "text": [
      "Labels      Predicted\n",
      "------      ---------\n",
      "Arham      Arham\n",
      "Unknown      Unknown\n",
      "Sameed       Sameed \n",
      "Sameed       Sameed \n",
      "Sameed       Sameed \n",
      "Unknown      Unknown\n",
      "Unknown      Unknown\n",
      "Arham      Arham\n",
      "Arham      Arham\n",
      "Arham      Arham\n",
      "Arham      Arham\n",
      "Unknown      Unknown\n",
      "Sameed       Sameed \n",
      "Sameed       Sameed \n",
      "Unknown      Unknown\n",
      "Sameed       Sameed \n",
      "Sameed       Sameed \n",
      "Unknown      Unknown\n",
      "Arham      Arham\n",
      "Sameed       Sameed \n",
      "Unknown      Unknown\n",
      "Unknown      Unknown\n",
      "Sameed       Sameed \n",
      "Arham      Sameed \n",
      "Sameed       Arham\n",
      "Arham      Arham\n",
      "Sameed       Sameed \n",
      "Sameed       Sameed \n",
      "Sameed       Sameed \n",
      "Sameed       Sameed \n",
      "Unknown      Unknown\n",
      "Sameed       Sameed \n",
      "Unknown      Unknown\n",
      "Sameed       Sameed \n",
      "Arham      Sameed \n",
      "Unknown      Unknown\n",
      "Sameed       Sameed \n",
      "Sameed       Sameed \n",
      "Unknown      Unknown\n",
      "Arham      Arham\n",
      "Unknown      Unknown\n",
      "Arham      Arham\n",
      "Sameed       Sameed \n",
      "Unknown      Unknown\n",
      "Sameed       Sameed \n",
      "Unknown      Unknown\n",
      "Unknown      Unknown\n",
      "Arham      Arham\n",
      "Sameed       Sameed \n",
      "\n",
      "Macro-averaged precision: 0.939\n",
      "Macro-averaged recall: 0.929\n",
      "Macro-averaged F1-score: 0.933\n"
     ]
    }
   ],
   "source": [
    "y_predict = clf.predict(x_test)\n",
    "\n",
    "print(f\"Labels      Predicted\")\n",
    "print(f\"------      ---------\")\n",
    "\n",
    "for (labels_test,labels_predict) in zip(y_test,y_predict):\n",
    "    print(f\"{id_to_label[labels_test]}      {id_to_label[labels_predict]}\")\n",
    "print()\n",
    "\n",
    "\n",
    "# accr = clf.score(x_test,y_test)\n",
    "# precision = precision_score(y_test, y_predict)\n",
    "# recall =  recall_score(y_test, y_predict)\n",
    "# f1 = f1_score(y_test, y_predict)\n",
    "\n",
    "# print(\"Accuracy: {:.2f}\".format(accr))\n",
    "# print(\"Precision: {:.2f}\".format(precision))\n",
    "# print(\"Recall: {:.2f}\".format(recall))\n",
    "# print(\"F1 score: {:.2f}\".format(f1))\n",
    "\n",
    "\n",
    "\n",
    "# Calculate classification report\n",
    "# target_names = ['class 0', 'class 1', 'class 2']\n",
    "report = classification_report(y_test, y_predict, output_dict=True)\n",
    "\n",
    "# Print macro-averaged precision, recall, and F1-score\n",
    "macro_precision = report['macro avg']['precision']\n",
    "macro_recall = report['macro avg']['recall']\n",
    "macro_f1_score = report['macro avg']['f1-score']\n",
    "\n",
    "print(f\"Macro-averaged precision: {macro_precision:.3f}\")\n",
    "print(f\"Macro-averaged recall: {macro_recall:.3f}\")\n",
    "print(f\"Macro-averaged F1-score: {macro_f1_score:.3f}\")"
   ]
  },
  {
   "cell_type": "code",
   "execution_count": 15,
   "metadata": {},
   "outputs": [],
   "source": [
    "pickle.dump(clf, open('Sameed_Arham_Unknown_classifier.pkl', 'wb'))\n"
   ]
  }
 ],
 "metadata": {
  "kernelspec": {
   "display_name": "Python 3",
   "language": "python",
   "name": "python3"
  },
  "language_info": {
   "codemirror_mode": {
    "name": "ipython",
    "version": 3
   },
   "file_extension": ".py",
   "mimetype": "text/x-python",
   "name": "python",
   "nbconvert_exporter": "python",
   "pygments_lexer": "ipython3",
   "version": "3.11.0"
  },
  "orig_nbformat": 4
 },
 "nbformat": 4,
 "nbformat_minor": 2
}
