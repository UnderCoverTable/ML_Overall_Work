{
 "cells": [
  {
   "cell_type": "code",
   "execution_count": 51,
   "metadata": {},
   "outputs": [],
   "source": [
    "import numpy as np\n",
    "import pandas as pd\n",
    "from sklearn.model_selection import train_test_split\n",
    "import os"
   ]
  },
  {
   "cell_type": "code",
   "execution_count": 52,
   "metadata": {},
   "outputs": [],
   "source": [
    "path_unknown = r\"C:\\Users\\Sameed\\Desktop\\ML_Overall_Work\\More_Improving_Age_Regression\\Dataset\\Unknown\"\n",
    "path_sameed = r\"C:\\Users\\Sameed\\Desktop\\ML_Overall_Work\\More_Improving_Age_Regression\\Dataset\\Sameed\"\n",
    "path_arham = r\"C:\\Users\\Sameed\\Desktop\\ML_Overall_Work\\More_Improving_Age_Regression\\Dataset\\Arham\"\n",
    "\n",
    "paths_sameed_list = os.listdir(path_sameed) \n",
    "paths_arham_list = os.listdir(path_arham)\n",
    "paths_unknown_list = os.listdir(path_unknown)\n",
    "\n",
    "sameed_ages = [image[:2] for image in paths_sameed_list ]\n",
    "\n",
    "arham_ages = [image[:2] for image in paths_arham_list ]\n",
    "\n",
    "unknown_ages = [image[:2] for image in paths_unknown_list ]\n",
    "unknown_ages = [word.replace('_', '') for word in unknown_ages]\n",
    "\n"
   ]
  },
  {
   "cell_type": "code",
   "execution_count": 53,
   "metadata": {},
   "outputs": [],
   "source": [
    "path_sameed_images = []\n",
    "path_unknown_images = []\n",
    "path_arham_images = []\n",
    "\n",
    "for filee in paths_sameed_list:\n",
    "    path_sameed_images.append(r\"C:\\Users\\Sameed\\Desktop\\ML_Overall_Work\\More_Improving_Age_Regression\\Dataset\\Sameed\" + \"\\\\\" + filee)\n",
    "\n",
    "for filee in paths_unknown_list:\n",
    "    path_unknown_images.append(r\"C:\\Users\\Sameed\\Desktop\\ML_Overall_Work\\More_Improving_Age_Regression\\Dataset\\Unknown\" + \"\\\\\" + filee)\n",
    "\n",
    "for filee in paths_arham_list:\n",
    "    path_arham_images.append(r\"C:\\Users\\Sameed\\Desktop\\ML_Overall_Work\\More_Improving_Age_Regression\\Dataset\\Arham\" + \"\\\\\" + filee)\n",
    "\n",
    "\n",
    "\n",
    "paths = path_unknown_images + path_sameed_images + path_arham_images\n",
    "\n",
    "indentities = [\"Unknown\" for i in range(69)] + [\"Sameed\" for i in range(69)] + [\"Arham\" for i in range(41)]\n",
    "ages = unknown_ages + sameed_ages + arham_ages\n",
    "ages = [int(n) for n in ages]\n"
   ]
  },
  {
   "cell_type": "code",
   "execution_count": 54,
   "metadata": {},
   "outputs": [],
   "source": [
    "df = pd.DataFrame(\n",
    "\n",
    "    {\"Path\": paths,\n",
    "    \"Identity\": indentities,\n",
    "    \"Age\": ages }\n",
    ")\n"
   ]
  },
  {
   "cell_type": "code",
   "execution_count": 55,
   "metadata": {},
   "outputs": [],
   "source": [
    "train, test = train_test_split(df, test_size=0.27)"
   ]
  },
  {
   "cell_type": "code",
   "execution_count": 56,
   "metadata": {},
   "outputs": [],
   "source": [
    "df.to_excel(r\"C:\\Users\\Sameed\\Desktop\\ML_Overall_Work\\More_Improving_Age_Regression\\Dataset\\Binary - Splits\\(Unknown_Sameed_Arham).xlsx\", index = False)\n",
    "train.to_excel(r\"C:\\Users\\Sameed\\Desktop\\ML_Overall_Work\\More_Improving_Age_Regression\\Dataset\\Multi - Splits\\Train.xlsx\", index = False)\n",
    "test.to_excel(r\"C:\\Users\\Sameed\\Desktop\\ML_Overall_Work\\More_Improving_Age_Regression\\Dataset\\Multi - Splits\\Test.xlsx\", index = False)\n"
   ]
  }
 ],
 "metadata": {
  "kernelspec": {
   "display_name": "Python 3",
   "language": "python",
   "name": "python3"
  },
  "language_info": {
   "codemirror_mode": {
    "name": "ipython",
    "version": 3
   },
   "file_extension": ".py",
   "mimetype": "text/x-python",
   "name": "python",
   "nbconvert_exporter": "python",
   "pygments_lexer": "ipython3",
   "version": "3.11.0"
  },
  "orig_nbformat": 4
 },
 "nbformat": 4,
 "nbformat_minor": 2
}
