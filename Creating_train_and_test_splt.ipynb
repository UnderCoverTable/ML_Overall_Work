{
 "cells": [
  {
   "cell_type": "code",
   "execution_count": 97,
   "metadata": {},
   "outputs": [],
   "source": [
    "%store -r unknown_ages\n",
    "%store -r sameed_ages\n",
    "%store -r paths_unknown_cropped\n",
    "%store -r paths_sameed_cropped"
   ]
  },
  {
   "cell_type": "code",
   "execution_count": 98,
   "metadata": {},
   "outputs": [],
   "source": [
    "import cv2\n",
    "import numpy as np\n",
    "import pandas as pd\n",
    "import os\n",
    "from sklearn.model_selection import train_test_split"
   ]
  },
  {
   "cell_type": "code",
   "execution_count": 99,
   "metadata": {},
   "outputs": [],
   "source": [
    "# 1 = smiling\n",
    "# 0 = not smiling\n",
    "unknown_expressions_x = [1,1,1,1,1,1,1,1,1,1,1,1,1,1,0,0,0,0,1,0,1,1,0,1,1,1,0,0,0,1,1,1,1,0,1,1,0,0,1,1,1,1,1,1,1,1,0,0,0,0,1,1,1,0,1,1,1,0,1,0,0,1,1,0,0,0,0,1,0]\n",
    "sameed_expressions_x =  [0,1,1,1,1,0,0,0,0,1,0,0,0,0,1,1,0,0,0,0,1,0,0,1,1,1,1,1,1,0,0,0,0,0,0,0,0,0,0,0,0,0,1,1,1,1,1,1,1,1,1,1,0,0,0,0,1,1,1,1,0,0,0,0,0,1,1,1,1]\n",
    "\n",
    "unknown_expressions = [\"Smiling\" if unknown_expressions_x[i] == 1 else \"Not Smiling\" for i in range(69)]\n",
    "sameed_expressions = [\"Smiling\" if sameed_expressions_x[i] == 1 else \"Not Smiling\" for i in range(69)]\n",
    "\n"
   ]
  },
  {
   "cell_type": "code",
   "execution_count": 100,
   "metadata": {},
   "outputs": [
    {
     "data": {
      "text/html": [
       "<div>\n",
       "<style scoped>\n",
       "    .dataframe tbody tr th:only-of-type {\n",
       "        vertical-align: middle;\n",
       "    }\n",
       "\n",
       "    .dataframe tbody tr th {\n",
       "        vertical-align: top;\n",
       "    }\n",
       "\n",
       "    .dataframe thead th {\n",
       "        text-align: right;\n",
       "    }\n",
       "</style>\n",
       "<table border=\"1\" class=\"dataframe\">\n",
       "  <thead>\n",
       "    <tr style=\"text-align: right;\">\n",
       "      <th></th>\n",
       "      <th>Path</th>\n",
       "      <th>Identity</th>\n",
       "      <th>Age</th>\n",
       "      <th>Expression</th>\n",
       "    </tr>\n",
       "  </thead>\n",
       "  <tbody>\n",
       "    <tr>\n",
       "      <th>0</th>\n",
       "      <td>C:\\Users\\Sameed\\Desktop\\ML_Overall_Work\\Datase...</td>\n",
       "      <td>Unknown</td>\n",
       "      <td>10</td>\n",
       "      <td>Smiling</td>\n",
       "    </tr>\n",
       "    <tr>\n",
       "      <th>1</th>\n",
       "      <td>C:\\Users\\Sameed\\Desktop\\ML_Overall_Work\\Datase...</td>\n",
       "      <td>Unknown</td>\n",
       "      <td>10</td>\n",
       "      <td>Smiling</td>\n",
       "    </tr>\n",
       "    <tr>\n",
       "      <th>2</th>\n",
       "      <td>C:\\Users\\Sameed\\Desktop\\ML_Overall_Work\\Datase...</td>\n",
       "      <td>Unknown</td>\n",
       "      <td>10</td>\n",
       "      <td>Smiling</td>\n",
       "    </tr>\n",
       "    <tr>\n",
       "      <th>3</th>\n",
       "      <td>C:\\Users\\Sameed\\Desktop\\ML_Overall_Work\\Datase...</td>\n",
       "      <td>Unknown</td>\n",
       "      <td>11</td>\n",
       "      <td>Smiling</td>\n",
       "    </tr>\n",
       "    <tr>\n",
       "      <th>4</th>\n",
       "      <td>C:\\Users\\Sameed\\Desktop\\ML_Overall_Work\\Datase...</td>\n",
       "      <td>Unknown</td>\n",
       "      <td>12</td>\n",
       "      <td>Smiling</td>\n",
       "    </tr>\n",
       "    <tr>\n",
       "      <th>...</th>\n",
       "      <td>...</td>\n",
       "      <td>...</td>\n",
       "      <td>...</td>\n",
       "      <td>...</td>\n",
       "    </tr>\n",
       "    <tr>\n",
       "      <th>133</th>\n",
       "      <td>C:\\Users\\Sameed\\Desktop\\ML_Overall_Work\\Datase...</td>\n",
       "      <td>Sameed</td>\n",
       "      <td>22</td>\n",
       "      <td>Not Smiling</td>\n",
       "    </tr>\n",
       "    <tr>\n",
       "      <th>134</th>\n",
       "      <td>C:\\Users\\Sameed\\Desktop\\ML_Overall_Work\\Datase...</td>\n",
       "      <td>Sameed</td>\n",
       "      <td>22</td>\n",
       "      <td>Smiling</td>\n",
       "    </tr>\n",
       "    <tr>\n",
       "      <th>135</th>\n",
       "      <td>C:\\Users\\Sameed\\Desktop\\ML_Overall_Work\\Datase...</td>\n",
       "      <td>Sameed</td>\n",
       "      <td>22</td>\n",
       "      <td>Smiling</td>\n",
       "    </tr>\n",
       "    <tr>\n",
       "      <th>136</th>\n",
       "      <td>C:\\Users\\Sameed\\Desktop\\ML_Overall_Work\\Datase...</td>\n",
       "      <td>Sameed</td>\n",
       "      <td>22</td>\n",
       "      <td>Smiling</td>\n",
       "    </tr>\n",
       "    <tr>\n",
       "      <th>137</th>\n",
       "      <td>C:\\Users\\Sameed\\Desktop\\ML_Overall_Work\\Datase...</td>\n",
       "      <td>Sameed</td>\n",
       "      <td>22</td>\n",
       "      <td>Smiling</td>\n",
       "    </tr>\n",
       "  </tbody>\n",
       "</table>\n",
       "<p>138 rows × 4 columns</p>\n",
       "</div>"
      ],
      "text/plain": [
       "                                                  Path Identity Age  \\\n",
       "0    C:\\Users\\Sameed\\Desktop\\ML_Overall_Work\\Datase...  Unknown  10   \n",
       "1    C:\\Users\\Sameed\\Desktop\\ML_Overall_Work\\Datase...  Unknown  10   \n",
       "2    C:\\Users\\Sameed\\Desktop\\ML_Overall_Work\\Datase...  Unknown  10   \n",
       "3    C:\\Users\\Sameed\\Desktop\\ML_Overall_Work\\Datase...  Unknown  11   \n",
       "4    C:\\Users\\Sameed\\Desktop\\ML_Overall_Work\\Datase...  Unknown  12   \n",
       "..                                                 ...      ...  ..   \n",
       "133  C:\\Users\\Sameed\\Desktop\\ML_Overall_Work\\Datase...   Sameed  22   \n",
       "134  C:\\Users\\Sameed\\Desktop\\ML_Overall_Work\\Datase...   Sameed  22   \n",
       "135  C:\\Users\\Sameed\\Desktop\\ML_Overall_Work\\Datase...   Sameed  22   \n",
       "136  C:\\Users\\Sameed\\Desktop\\ML_Overall_Work\\Datase...   Sameed  22   \n",
       "137  C:\\Users\\Sameed\\Desktop\\ML_Overall_Work\\Datase...   Sameed  22   \n",
       "\n",
       "      Expression  \n",
       "0        Smiling  \n",
       "1        Smiling  \n",
       "2        Smiling  \n",
       "3        Smiling  \n",
       "4        Smiling  \n",
       "..           ...  \n",
       "133  Not Smiling  \n",
       "134      Smiling  \n",
       "135      Smiling  \n",
       "136      Smiling  \n",
       "137      Smiling  \n",
       "\n",
       "[138 rows x 4 columns]"
      ]
     },
     "execution_count": 100,
     "metadata": {},
     "output_type": "execute_result"
    }
   ],
   "source": [
    "df = pd.DataFrame(\n",
    "\n",
    "    {\"Path\": paths_unknown_cropped + paths_sameed_cropped,\n",
    "    \"Identity\": [\"Unknown\" if i < 69  else \"Sameed\" for i in range(138)],\n",
    "    \"Age\": unknown_ages + sameed_ages,\n",
    "    \"Expression\":unknown_expressions + sameed_expressions}\n",
    ")\n",
    "df"
   ]
  },
  {
   "cell_type": "code",
   "execution_count": 108,
   "metadata": {},
   "outputs": [],
   "source": [
    "train, test = train_test_split(df, test_size=0.27)"
   ]
  },
  {
   "cell_type": "code",
   "execution_count": 109,
   "metadata": {},
   "outputs": [
    {
     "name": "stdout",
     "output_type": "stream",
     "text": [
      "19\n",
      "50\n",
      "19\n",
      "50\n"
     ]
    }
   ],
   "source": [
    "print(len(test[ test[\"Identity\"] == \"Sameed\" ]))\n",
    "print(len(train[ train[\"Identity\"] == \"Unknown\" ]))\n",
    "\n",
    "print(len(test[ test[\"Identity\"] == \"Sameed\" ]))\n",
    "print(len(train[ train[\"Identity\"] == \"Sameed\" ]))"
   ]
  }
 ],
 "metadata": {
  "kernelspec": {
   "display_name": "Python 3",
   "language": "python",
   "name": "python3"
  },
  "language_info": {
   "codemirror_mode": {
    "name": "ipython",
    "version": 3
   },
   "file_extension": ".py",
   "mimetype": "text/x-python",
   "name": "python",
   "nbconvert_exporter": "python",
   "pygments_lexer": "ipython3",
   "version": "3.11.0"
  },
  "orig_nbformat": 4
 },
 "nbformat": 4,
 "nbformat_minor": 2
}
