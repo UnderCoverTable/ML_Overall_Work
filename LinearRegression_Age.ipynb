{
 "cells": [
  {
   "cell_type": "code",
   "execution_count": 1,
   "metadata": {},
   "outputs": [],
   "source": [
    "import numpy as np\n",
    "import pandas as pd"
   ]
  },
  {
   "cell_type": "code",
   "execution_count": 2,
   "metadata": {},
   "outputs": [],
   "source": [
    "trainDF = pd.read_excel('C:\\\\Users\\\\Sameed\\\\Desktop\\\\ML_Overall_Work\\\\Dataset\\\\Train.xlsx')\n",
    "testDF = pd.read_excel('C:\\\\Users\\\\Sameed\\\\Desktop\\\\ML_Overall_Work\\\\Dataset\\\\Test.xlsx')\n",
    "\n",
    "age_train = trainDF['Age'].tolist()\n",
    "age_test = testDF['Age'].tolist()\n"
   ]
  },
  {
   "cell_type": "code",
   "execution_count": 3,
   "metadata": {},
   "outputs": [
    {
     "name": "stdout",
     "output_type": "stream",
     "text": [
      "[20, 22, 80, 39, 22, 18, 10, 22, 21, 3, 22, 21, 21, 22, 27, 1, 26, 22, 22, 58, 22, 22, 18, 12, 22, 21, 22, 22, 53, 78, 26, 19, 13, 19, 22, 22, 21, 22, 80, 65, 22, 28, 76, 22, 22, 22, 7, 22, 22, 1, 26, 22, 22, 26, 66, 28, 22, 7, 2, 22, 21, 28, 16, 23, 22, 22, 85, 1, 13, 22, 59, 21, 11, 28, 22, 21, 20, 33, 22, 56, 21, 35, 71, 21, 3, 22, 85, 60, 22, 23, 20, 22, 21, 10, 22, 39, 24, 22, 21, 19]\n"
     ]
    }
   ],
   "source": []
  }
 ],
 "metadata": {
  "kernelspec": {
   "display_name": "Python 3",
   "language": "python",
   "name": "python3"
  },
  "language_info": {
   "codemirror_mode": {
    "name": "ipython",
    "version": 3
   },
   "file_extension": ".py",
   "mimetype": "text/x-python",
   "name": "python",
   "nbconvert_exporter": "python",
   "pygments_lexer": "ipython3",
   "version": "3.11.0"
  },
  "orig_nbformat": 4
 },
 "nbformat": 4,
 "nbformat_minor": 2
}
