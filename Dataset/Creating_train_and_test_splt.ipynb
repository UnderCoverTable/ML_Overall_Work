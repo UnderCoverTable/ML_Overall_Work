{
 "cells": [
  {
   "cell_type": "code",
   "execution_count": 68,
   "metadata": {},
   "outputs": [],
   "source": [
    "%store -r paths_unknown_cropped\n",
    "%store -r paths_sameed_cropped\n",
    "%store -r paths_arham_cropped\n",
    "\n",
    "%store -r arham_ages\n",
    "%store -r unknown_ages\n",
    "%store -r sameed_ages\n",
    "\n",
    "%store -r arham_expressions\n",
    "%store -r sameed_expressions\n",
    "%store -r unknown_expressions"
   ]
  },
  {
   "cell_type": "code",
   "execution_count": 69,
   "metadata": {},
   "outputs": [],
   "source": [
    "import numpy as np\n",
    "import pandas as pd\n",
    "from sklearn.model_selection import train_test_split"
   ]
  },
  {
   "cell_type": "code",
   "execution_count": 70,
   "metadata": {},
   "outputs": [],
   "source": [
    "paths = paths_unknown_cropped + paths_sameed_cropped #+ paths_arham_cropped\n",
    "\n",
    "entries = len(paths)/3\n",
    "\n",
    "indentities = indentities =  [\"Unknown\" for i in range(69)] + [\"Sameed\" for i in range(69)] #+ [\"Arham\" for i in range(41)]\n",
    "ages = unknown_ages + sameed_ages #+ arham_ages\n",
    "ages = [int(n) for n in ages]\n",
    "expressions = unknown_expressions + sameed_expressions #+ arham_expressions\n"
   ]
  },
  {
   "cell_type": "code",
   "execution_count": 71,
   "metadata": {},
   "outputs": [],
   "source": [
    "df = pd.DataFrame(\n",
    "\n",
    "    {\"Path\": paths,\n",
    "    \"Identity\": indentities,\n",
    "    \"Age\": ages ,\n",
    "    \"Expression\": expressions}\n",
    ")\n"
   ]
  },
  {
   "cell_type": "code",
   "execution_count": 72,
   "metadata": {},
   "outputs": [],
   "source": [
    "train, test = train_test_split(df, test_size=0.27)"
   ]
  },
  {
   "cell_type": "code",
   "execution_count": 73,
   "metadata": {},
   "outputs": [
    {
     "name": "stdout",
     "output_type": "stream",
     "text": [
      "20\n",
      "51\n",
      "20\n",
      "51\n"
     ]
    }
   ],
   "source": [
    "print(len(test[ test[\"Identity\"] == \"Sameed\" ]))\n",
    "print(len(train[ train[\"Identity\"] == \"Unknown\" ]))\n",
    "# print(len(train[ train[\"Identity\"] == \"Arham\" ]))\n",
    "\n",
    "\n",
    "print(len(test[ test[\"Identity\"] == \"Sameed\" ]))\n",
    "print(len(train[ train[\"Identity\"] == \"Unknown\" ]))\n",
    "# print(len(train[ train[\"Identity\"] == \"Arham\" ]))\n"
   ]
  },
  {
   "cell_type": "code",
   "execution_count": 74,
   "metadata": {},
   "outputs": [],
   "source": [
    "df.to_excel(\"C:\\\\Users\\\\Sameed\\\\Desktop\\\\ML_Overall_Work\\\\Dataset\\\\Complete Dataset(Unknown_Sameed_Arham).xlsx\", index = False)\n",
    "train.to_excel(\"C:\\\\Users\\\\Sameed\\\\Desktop\\\\ML_Overall_Work\\\\Dataset\\\\Train.xlsx\", index = False)\n",
    "test.to_excel(\"C:\\\\Users\\\\Sameed\\\\Desktop\\\\ML_Overall_Work\\\\Dataset\\\\Test.xlsx\", index = False)\n"
   ]
  }
 ],
 "metadata": {
  "kernelspec": {
   "display_name": "Python 3",
   "language": "python",
   "name": "python3"
  },
  "language_info": {
   "codemirror_mode": {
    "name": "ipython",
    "version": 3
   },
   "file_extension": ".py",
   "mimetype": "text/x-python",
   "name": "python",
   "nbconvert_exporter": "python",
   "pygments_lexer": "ipython3",
   "version": "3.11.0"
  },
  "orig_nbformat": 4
 },
 "nbformat": 4,
 "nbformat_minor": 2
}
