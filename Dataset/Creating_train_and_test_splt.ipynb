{
 "cells": [
  {
   "cell_type": "code",
   "execution_count": 97,
   "metadata": {},
   "outputs": [],
   "source": [
    "%store -r unknown_ages\n",
    "%store -r sameed_ages\n",
    "%store -r paths_unknown_cropped\n",
    "%store -r paths_sameed_cropped"
   ]
  },
  {
   "cell_type": "code",
   "execution_count": 98,
   "metadata": {},
   "outputs": [],
   "source": [
    "import cv2\n",
    "import numpy as np\n",
    "import pandas as pd\n",
    "import os\n",
    "from sklearn.model_selection import train_test_split"
   ]
  },
  {
   "cell_type": "code",
   "execution_count": 116,
   "metadata": {},
   "outputs": [],
   "source": [
    "# 1 = smiling\n",
    "# 0 = not smiling\n",
    "unknown_expressions_x = [1,1,1,1,1,1,1,1,1,1,1,1,1,1,0,0,0,0,1,0,1,1,0,1,1,1,0,0,0,1,1,1,1,0,1,1,0,0,1,1,1,1,1,1,1,1,0,0,0,0,1,1,1,0,1,1,1,0,1,0,0,1,1,0,0,0,0,1,0]\n",
    "sameed_expressions_x =  [0,1,1,1,1,0,0,0,0,1,0,0,0,0,1,1,0,0,0,0,1,0,0,1,1,1,1,1,1,0,0,0,0,0,0,0,0,0,0,0,0,0,1,1,1,1,1,1,1,1,1,1,0,0,0,0,1,1,1,1,0,0,0,0,0,1,1,1,1]\n",
    "\n",
    "unknown_expressions = [\"Smiling\" if unknown_expressions_x[i] == 1 else \"Not Smiling\" for i in range(69)]\n",
    "sameed_expressions = [\"Smiling\" if sameed_expressions_x[i] == 1 else \"Not Smiling\" for i in range(69)]\n",
    "\n",
    "age_int = unknown_ages + sameed_ages"
   ]
  },
  {
   "cell_type": "code",
   "execution_count": 117,
   "metadata": {},
   "outputs": [],
   "source": [
    "df = pd.DataFrame(\n",
    "\n",
    "    {\"Path\": paths_unknown_cropped + paths_sameed_cropped,\n",
    "    \"Identity\": [\"Unknown\" if i < 69  else \"Sameed\" for i in range(138)],\n",
    "    \"Age\": [int(n) for n in age_int] ,\n",
    "    \"Expression\":unknown_expressions + sameed_expressions}\n",
    ")\n"
   ]
  },
  {
   "cell_type": "code",
   "execution_count": 154,
   "metadata": {},
   "outputs": [],
   "source": [
    "train, test = train_test_split(df, test_size=0.27)"
   ]
  },
  {
   "cell_type": "code",
   "execution_count": 155,
   "metadata": {},
   "outputs": [
    {
     "name": "stdout",
     "output_type": "stream",
     "text": [
      "19\n",
      "50\n",
      "19\n",
      "50\n"
     ]
    }
   ],
   "source": [
    "print(len(test[ test[\"Identity\"] == \"Sameed\" ]))\n",
    "print(len(train[ train[\"Identity\"] == \"Unknown\" ]))\n",
    "\n",
    "print(len(test[ test[\"Identity\"] == \"Sameed\" ]))\n",
    "print(len(train[ train[\"Identity\"] == \"Sameed\" ]))"
   ]
  },
  {
   "cell_type": "code",
   "execution_count": 159,
   "metadata": {},
   "outputs": [],
   "source": [
    "df.to_excel(\"C:\\\\Users\\\\Sameed\\\\Desktop\\\\ML_Overall_Work\\\\Dataset\\\\Complete Dataset(Sameed_Unknown).xlsx\", index = False)\n",
    "train.to_excel(\"C:\\\\Users\\\\Sameed\\\\Desktop\\\\ML_Overall_Work\\\\Dataset\\\\Train.xlsx\", index = False)\n",
    "test.to_excel(\"C:\\\\Users\\\\Sameed\\\\Desktop\\\\ML_Overall_Work\\\\Dataset\\\\Test.xlsx\", index = False)\n"
   ]
  }
 ],
 "metadata": {
  "kernelspec": {
   "display_name": "Python 3",
   "language": "python",
   "name": "python3"
  },
  "language_info": {
   "codemirror_mode": {
    "name": "ipython",
    "version": 3
   },
   "file_extension": ".py",
   "mimetype": "text/x-python",
   "name": "python",
   "nbconvert_exporter": "python",
   "pygments_lexer": "ipython3",
   "version": "3.11.0"
  },
  "orig_nbformat": 4
 },
 "nbformat": 4,
 "nbformat_minor": 2
}
