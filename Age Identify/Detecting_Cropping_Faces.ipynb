{
 "cells": [
  {
   "attachments": {},
   "cell_type": "markdown",
   "metadata": {},
   "source": [
    "Imports\n"
   ]
  },
  {
   "cell_type": "code",
   "execution_count": 102,
   "metadata": {},
   "outputs": [],
   "source": [
    "import cv2\n",
    "import numpy as np\n",
    "import pandas as pd\n",
    "import os\n",
    "from sklearn.model_selection import train_test_split\n",
    "from matplotlib import pyplot as plt\n",
    "import pandas as pd\n",
    "import numpy\n",
    "from sklearn.linear_model import LinearRegression\n",
    "from sklearn.metrics import r2_score, mean_squared_error\n",
    "from sklearn.linear_model import SGDRegressor\n",
    "import pickle\n",
    "\n"
   ]
  },
  {
   "cell_type": "code",
   "execution_count": 103,
   "metadata": {},
   "outputs": [],
   "source": [
    "#Path to the raw images\n",
    "path_unknown_raw = \"C:\\\\Users\\\\Sameed\\\\Desktop\\\\ML_Overall_Work\\\\Age Identify\\\\Dataset\\\\UTKFace\"\n",
    "\n",
    "#Get the names of all the images\n",
    "images_unknown = os.listdir(path_unknown_raw)\n",
    "\n",
    "#Store the paths of all the cropped images we will save later\n",
    "paths_unknown_cropped = []\n",
    "\n",
    "img_dim = 32\n"
   ]
  },
  {
   "cell_type": "code",
   "execution_count": 104,
   "metadata": {},
   "outputs": [],
   "source": [
    "unknown_ages = []\n",
    "features = []\n",
    "\n",
    "#Store all the paths for the unknown images\n",
    "for unknowns in enumerate(images_unknown):\n",
    "    \n",
    "    age = \"\"\n",
    "    for i in range(0,6):\n",
    "        if(unknowns[1][i] == \"_\"):\n",
    "            break\n",
    "        else:\n",
    "            age += unknowns[1][i]\n",
    "\n",
    "    unknown_ages.append(int(age))\n",
    "\n",
    "    path = path_unknown_raw + \"\\\\\" + unknowns[1]\n",
    "    image = cv2.imread(path)\n",
    "\n",
    "    img_resize = cv2.resize(image, (img_dim,img_dim))\n",
    "    features.append(img_resize.flatten())\n"
   ]
  },
  {
   "cell_type": "code",
   "execution_count": 118,
   "metadata": {},
   "outputs": [
    {
     "name": "stdout",
     "output_type": "stream",
     "text": [
      "StandardScaler()\n",
      "[ 77.65695453  86.35039254  98.52529493 ...  98.51870356 104.75162685\n",
      " 118.53364961]\n"
     ]
    }
   ],
   "source": [
    "x = np.array(features)\n",
    "y = np.array(unknown_ages)\n",
    "from sklearn.preprocessing import StandardScaler\n",
    "\n",
    "scaler = StandardScaler()\n",
    "print(scaler.fit(x,y))\n",
    "print(scaler.mean_)\n",
    "\n",
    "x_train, x_test, y_train, y_test = train_test_split(x, y, test_size=0.1,random_state=10)\n",
    "\n"
   ]
  },
  {
   "cell_type": "code",
   "execution_count": 119,
   "metadata": {},
   "outputs": [],
   "source": [
    "reg = LinearRegression()\n",
    "reg.fit(x_train, y_train)\n",
    "y_pred_ls = reg.predict(x_test)\n"
   ]
  },
  {
   "cell_type": "code",
   "execution_count": 120,
   "metadata": {},
   "outputs": [
    {
     "name": "stdout",
     "output_type": "stream",
     "text": [
      "0.5462346146913211\n",
      "182.00822217747725\n",
      "[-0.00272599 -0.02222004  0.03986795 ...  0.0026557  -0.00301925\n",
      " -0.01317371]\n",
      "36.75867670320579\n"
     ]
    }
   ],
   "source": [
    "print(r2_score(y_test, y_pred_ls))\n",
    "print(mean_squared_error(y_test, y_pred_ls))\n",
    "a = reg.coef_\n",
    "b = reg.intercept_\n",
    "print(a)\n",
    "print(b)"
   ]
  },
  {
   "cell_type": "code",
   "execution_count": 123,
   "metadata": {},
   "outputs": [],
   "source": [
    "\n",
    "regressor = SGDRegressor(learning_rate=\"optimal\",max_iter=2000)\n",
    "regressor.fit(x_train, y_train)\n",
    "y_pred_sgd = regressor.predict(x_test)\n"
   ]
  },
  {
   "cell_type": "code",
   "execution_count": 124,
   "metadata": {},
   "outputs": [
    {
     "name": "stdout",
     "output_type": "stream",
     "text": [
      "Mean Squared Error: 2.3603970228526098e+32\n",
      "-5.884714721908387e+29\n"
     ]
    }
   ],
   "source": [
    "mse = mean_squared_error(y_test, y_pred_sgd)\n",
    "n_r2 = r2_score(y_test, y_pred_sgd)\n",
    "\n",
    "print(\"Mean Squared Error:\", mse)\n",
    "print(n_r2)"
   ]
  },
  {
   "cell_type": "code",
   "execution_count": 75,
   "metadata": {},
   "outputs": [],
   "source": [
    "pickle.dump(reg, open('OLS.pkl', 'wb'))\n",
    "pickle.dump(regressor, open('SGD.pkl', 'wb'))\n"
   ]
  }
 ],
 "metadata": {
  "kernelspec": {
   "display_name": "Python 3",
   "language": "python",
   "name": "python3"
  },
  "language_info": {
   "codemirror_mode": {
    "name": "ipython",
    "version": 3
   },
   "file_extension": ".py",
   "mimetype": "text/x-python",
   "name": "python",
   "nbconvert_exporter": "python",
   "pygments_lexer": "ipython3",
   "version": "3.11.0"
  },
  "orig_nbformat": 4
 },
 "nbformat": 4,
 "nbformat_minor": 2
}
