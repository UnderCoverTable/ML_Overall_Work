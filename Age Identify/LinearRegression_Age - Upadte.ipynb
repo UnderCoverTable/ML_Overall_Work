{
 "cells": [
  {
   "cell_type": "code",
   "execution_count": 144,
   "metadata": {},
   "outputs": [],
   "source": [
    "from matplotlib import pyplot as plt\n",
    "import pandas as pd\n",
    "import numpy\n",
    "from PIL import Image\n",
    "from sklearn.linear_model import LinearRegression\n",
    "from sklearn.metrics import r2_score, mean_squared_error\n",
    "from sklearn.linear_model import SGDRegressor\n",
    "import pickle\n",
    "\n"
   ]
  },
  {
   "cell_type": "code",
   "execution_count": 127,
   "metadata": {},
   "outputs": [],
   "source": [
    "trainDF = pd.read_excel('C:\\\\Users\\\\Sameed\\\\Desktop\\\\ML_Overall_Work\\\\Dataset\\\\Train.xlsx')\n",
    "\n",
    "imagePaths = trainDF['Path'].tolist()\n",
    "imageLabels = trainDF['Age'].tolist()\n"
   ]
  },
  {
   "cell_type": "code",
   "execution_count": 128,
   "metadata": {},
   "outputs": [],
   "source": [
    "\n",
    "x_train = []\n",
    "coloumn_heading = []\n",
    "\n",
    "for i in range(0,12288):\n",
    "    coloumn_heading.append(\"x\"+str(i)+\"_Train\")\n",
    "\n",
    "\n",
    "for images in imagePaths:\n",
    "    img = Image.open(images)\n",
    "\n",
    "    array_img = numpy.array(img)\n",
    "    array_img = array_img.flatten()\n",
    "\n",
    "    x_train.append(array_img)"
   ]
  },
  {
   "cell_type": "code",
   "execution_count": 129,
   "metadata": {},
   "outputs": [],
   "source": [
    "testDF = pd.read_excel('C:\\\\Users\\\\Sameed\\\\Desktop\\\\ML_Overall_Work\\\\Dataset\\\\Test.xlsx')\n",
    "\n",
    "imagePaths_test = testDF['Path'].tolist()\n",
    "imageLabels_test = testDF['Age'].tolist()\n"
   ]
  },
  {
   "cell_type": "code",
   "execution_count": 130,
   "metadata": {},
   "outputs": [],
   "source": [
    "\n",
    "x_test = []\n",
    "coloumn_heading_test = []\n",
    "\n",
    "for i in range(0,12288):\n",
    "    coloumn_heading_test.append(\"x\"+str(i)+\"_Test\")\n",
    "\n",
    "for images in imagePaths_test:\n",
    "    img = Image.open(images)\n",
    "\n",
    "    array_img = numpy.array(img)\n",
    "    array_img = array_img.flatten()\n",
    "\n",
    "    x_test.append(array_img)\n"
   ]
  },
  {
   "cell_type": "code",
   "execution_count": 131,
   "metadata": {},
   "outputs": [],
   "source": [
    "\n",
    "x_train = numpy.array(x_train)\n",
    "y_train = numpy.array(imageLabels)\n",
    "\n",
    "x_test = numpy.array(x_test)\n",
    "y_test = numpy.array(imageLabels_test)\n"
   ]
  },
  {
   "cell_type": "code",
   "execution_count": 132,
   "metadata": {},
   "outputs": [],
   "source": [
    "a = pd.DataFrame(x_train)\n",
    "b = pd.DataFrame(y_train)\n",
    "c = pd.DataFrame(x_test)\n",
    "d = pd.DataFrame(y_test)\n"
   ]
  },
  {
   "attachments": {},
   "cell_type": "markdown",
   "metadata": {},
   "source": [
    "Normal Linear regression"
   ]
  },
  {
   "cell_type": "code",
   "execution_count": 143,
   "metadata": {},
   "outputs": [
    {
     "name": "stdout",
     "output_type": "stream",
     "text": [
      "0.36521359275521226\n"
     ]
    }
   ],
   "source": [
    "reg = LinearRegression()\n",
    "reg.fit(x_train, y_train)\n",
    "\n",
    "y_pred_ls = reg.predict(x_test)\n",
    "\n",
    "print(r2_score(y_test, y_pred_ls))\n"
   ]
  },
  {
   "cell_type": "code",
   "execution_count": 134,
   "metadata": {},
   "outputs": [
    {
     "name": "stdout",
     "output_type": "stream",
     "text": [
      "[22 21 22 23 78 22 21 24 69 22  7 21 22 19 22 21 22 71 80 76 22 12 10 22\n",
      " 22 22 20 22 35 27  1 21 22 22 85 18 22 21]\n"
     ]
    },
    {
     "data": {
      "text/plain": [
       "array([26.77085463, 27.86058807, 29.12213181, 29.87665806, 38.4439142 ,\n",
       "       16.16458864, 25.31665193, 16.26007931, 26.84883907, 24.49686205,\n",
       "       11.18803988, 20.30942156, 21.48178585, 27.97471985, 27.29216401,\n",
       "       31.60537294, 12.44341776, 28.90237985, 42.63414058, 38.24194961,\n",
       "       28.98109795, 23.54544526, 14.71403106, 15.58987091, 23.46885853,\n",
       "       26.62822378, 19.22239162, 31.13888543, 42.17556963, 25.21120793,\n",
       "       29.30511201, 18.84244855, 29.18331732, 22.38623872, 60.53405622,\n",
       "       24.52371559, 31.34122297,  2.57854206])"
      ]
     },
     "execution_count": 134,
     "metadata": {},
     "output_type": "execute_result"
    }
   ],
   "source": [
    "print(y_test)\n",
    "y_pred_ls"
   ]
  },
  {
   "cell_type": "code",
   "execution_count": 140,
   "metadata": {},
   "outputs": [
    {
     "name": "stdout",
     "output_type": "stream",
     "text": [
      "Mean Squared Error: 4.95166808282621e+33\n",
      "-1.0972350042431903e+31\n"
     ]
    }
   ],
   "source": [
    "\n",
    "\n",
    "\n",
    "# Create a SGDRegressor object with default hyperparameters\n",
    "regressor = SGDRegressor()\n",
    "\n",
    "# Fit the model to the training data\n",
    "regressor.fit(x_train, y_train)\n",
    "\n",
    "# Predict the target values for the test data\n",
    "y_pred_sgd = regressor.predict(x_test)\n",
    "\n",
    "# Compute the mean squared error of the predictions\n",
    "mse = mean_squared_error(y_test, y_pred_sgd)\n",
    "n_r2 = r2_score(y_test, y_pred_sgd)\n",
    "\n",
    "print(\"Mean Squared Error:\", mse)\n",
    "print(n_r2)\n",
    "\n"
   ]
  }
 ],
 "metadata": {
  "kernelspec": {
   "display_name": "Python 3",
   "language": "python",
   "name": "python3"
  },
  "language_info": {
   "codemirror_mode": {
    "name": "ipython",
    "version": 3
   },
   "file_extension": ".py",
   "mimetype": "text/x-python",
   "name": "python",
   "nbconvert_exporter": "python",
   "pygments_lexer": "ipython3",
   "version": "3.11.0"
  },
  "orig_nbformat": 4
 },
 "nbformat": 4,
 "nbformat_minor": 2
}
